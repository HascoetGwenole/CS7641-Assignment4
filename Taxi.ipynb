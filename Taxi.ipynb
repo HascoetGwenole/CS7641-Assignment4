{
 "cells": [
  {
   "cell_type": "markdown",
   "metadata": {},
   "source": [
    "### The value iteration, policy iteration and Q learning algorithm used for this assignment where adapted from codes that can be found at:\n",
    "#### Value iteration & Policy Iteration: https://medium.com/@annishared/searching-for-optimal-policies-in-python-an-intro-to-optimization-7182d6fe4dba\n",
    "####  Q-Learning :  https://www.learndatasci.com/tutorials/reinforcement-q-learning-scratch-python-openai-gym/"
   ]
  },
  {
   "cell_type": "code",
   "execution_count": 28,
   "metadata": {},
   "outputs": [],
   "source": [
    "import gym\n",
    "import numpy as np\n",
    "import time\n",
    "import matplotlib.pyplot as plt"
   ]
  },
  {
   "cell_type": "code",
   "execution_count": 17,
   "metadata": {},
   "outputs": [
    {
     "name": "stdout",
     "output_type": "stream",
     "text": [
      "+---------+\n",
      "|R: | : :G|\n",
      "| : | : : |\n",
      "| :\u001b[43m \u001b[0m: : : |\n",
      "| | : | : |\n",
      "|\u001b[34;1mY\u001b[0m| : |\u001b[35mB\u001b[0m: |\n",
      "+---------+\n",
      "\n"
     ]
    }
   ],
   "source": [
    "env1 = gym.make(\"Taxi-v3\").env\n",
    "\n",
    "env1.render()"
   ]
  },
  {
   "cell_type": "code",
   "execution_count": 6,
   "metadata": {},
   "outputs": [
    {
     "name": "stdout",
     "output_type": "stream",
     "text": [
      "+-----------------------------+\n",
      "|R: : : : | : : : :G: : : : : |\n",
      "| : : : : | : : : : : : : : : |\n",
      "| : : : : | : : :\u001b[43m \u001b[0m: : : : : : |\n",
      "| : : : : : : : | : : : | : : |\n",
      "| : | : :Y: : : | : : : | : :B|\n",
      "| : | : : : : : : : : : | : : |\n",
      "| : | : : : : : : : : : | : : |\n",
      "| : | : : : : : : : : : : : : |\n",
      "|\u001b[34;1mO\u001b[0m: : : : : : | : : : : : : : |\n",
      "| : : : : : : | : :P: : : : : |\n",
      "| : : : : : : | : : : : : : : |\n",
      "| : : : : : : : : : : | : : : |\n",
      "| : : : | : : : : : : | : : : |\n",
      "| : : : | : : : : : : | : : : |\n",
      "| : :M: | : : : : : : | :\u001b[35mC\u001b[0m: : |\n",
      "+-----------------------------+\n",
      "\n"
     ]
    }
   ],
   "source": [
    "env2 = gym.make(\"Taxi-v4\").env\n",
    "env2.render()"
   ]
  },
  {
   "cell_type": "markdown",
   "metadata": {},
   "source": [
    "### Helper functions "
   ]
  },
  {
   "cell_type": "code",
   "execution_count": 16,
   "metadata": {},
   "outputs": [],
   "source": [
    "def taxi_route(policy, s1, env):\n",
    "    env.s=s1\n",
    "    env.render()\n",
    "    while policy[s1].tolist()!=[0., 0., 0., 0., 0., 1.]:\n",
    "        a=np.argmax(policy[s1])\n",
    "        print(a, policy[s1])\n",
    "        #print(policy_q_2[s1], policy[s1])\n",
    "        next_state, reward, done, info = env.step(a)\n",
    "        s1= next_state  \n",
    "        env.s=s1\n",
    "        env.render()\n",
    "        \n",
    "    a = np.argmax(policy[s1])\n",
    "    next_state, reward, done, info = env.step(a)\n",
    "    s1= env.P[s1][a][0][1]\n",
    "    env.s=s1\n",
    "    env.render()"
   ]
  },
  {
   "cell_type": "code",
   "execution_count": 17,
   "metadata": {},
   "outputs": [],
   "source": [
    "def encode2(taxi_row, taxi_col, pass_loc, dest_idx):\n",
    "    # (15) 15, 9, 8\n",
    "    i = taxi_row\n",
    "    i *= 15\n",
    "    i += taxi_col\n",
    "    i *= 9\n",
    "    i += pass_loc\n",
    "    i *= 8\n",
    "    i += dest_idx\n",
    "    return i\n",
    "\n",
    "def decode2(i):\n",
    "    out = []\n",
    "    out.append(i % 8)\n",
    "    i = i // 8\n",
    "    out.append(i % 9)\n",
    "    i = i // 9\n",
    "    out.append(i % 15)\n",
    "    i = i // 15\n",
    "    out.append(i)\n",
    "    assert 0 <= i < 15\n",
    "    return out[::-1]\n",
    "\n",
    "def encode1(taxi_row, taxi_col, pass_loc, dest_idx):\n",
    "        # (5) 5, 5, 4\n",
    "        i = taxi_row\n",
    "        i *= 5\n",
    "        i += taxi_col\n",
    "        i *= 5\n",
    "        i += pass_loc\n",
    "        i *= 4\n",
    "        i += dest_idx\n",
    "        return i\n",
    "def decode1(i):\n",
    "    out = []\n",
    "    out.append(i % 4) #dest\n",
    "    i = i // 4 \n",
    "    out.append(i % 5) #pass_loc\n",
    "    i = i // 5 \n",
    "    out.append(i % 5) #col\n",
    "    i = i // 5 \n",
    "    out.append(i)   #row\n",
    "    assert 0 <= i < 5\n",
    "    return out[::-1]"
   ]
  },
  {
   "cell_type": "code",
   "execution_count": 18,
   "metadata": {},
   "outputs": [],
   "source": [
    "def visualize_policy(policy, len_row, len_col):\n",
    "    visu = []\n",
    "    for i in range(len_row):\n",
    "        visu.append(\"|\")\n",
    "        for j in range(len_col):\n",
    "            s = encode2(i,j,2,1)\n",
    "            a = np.argmax(policy[s])\n",
    "            if a==0:\n",
    "                visu[i] = visu[i] + 's|'\n",
    "            if a==1:\n",
    "                visu[i] = visu[i] + 'n|'\n",
    "            if a==2:\n",
    "                visu[i] = visu[i] + 'e|'\n",
    "            if a==3:\n",
    "                visu[i] = visu[i] + 'w|'\n",
    "            if a==4:\n",
    "                visu[i] = visu[i] + 'p|'\n",
    "            if a==5:\n",
    "                visu[i] = visu[i] + 'd|'\n",
    "    return(visu, s)\n",
    "\n",
    "        "
   ]
  },
  {
   "cell_type": "code",
   "execution_count": 19,
   "metadata": {},
   "outputs": [],
   "source": [
    "def average_reward_route(policy, s1, env):\n",
    "    env.s=s1\n",
    "    #env.render()\n",
    "    total_reward = 0\n",
    "    i=0\n",
    "    converge = True\n",
    "    done = False\n",
    "    while not done:\n",
    "        i+=1\n",
    "        a = np.argmax(policy[s1])\n",
    "        next_state, reward, done, info = env.step(a)\n",
    "        s1= next_state\n",
    "        total_reward +=reward\n",
    "        env.s=s1\n",
    "       # env.render()\n",
    "        if i>500:\n",
    "            converge = False\n",
    "            break\n",
    "            \n",
    "    \n",
    "    a = np.argmax(policy[s1])\n",
    "    next_state, reward, done, info = env.step(a)\n",
    "    s1= next_state\n",
    "    env.s=s1\n",
    "    #env.render()\n",
    "    total_reward +=reward\n",
    "    return(total_reward, converge)\n"
   ]
  },
  {
   "cell_type": "code",
   "execution_count": 20,
   "metadata": {},
   "outputs": [],
   "source": [
    "def compute_average_reward(policy, env):\n",
    "    average_reward = 0\n",
    "    count_cv = 0\n",
    "    for s in range(env.nS):\n",
    "        \n",
    "        a, cv =average_reward_route(policy,  s, env)\n",
    "        if cv == True:\n",
    "            count_cv+=1\n",
    "            average_reward+=a\n",
    "    return(average_reward/(count_cv), env.nS-count_cv)"
   ]
  },
  {
   "cell_type": "code",
   "execution_count": 78,
   "metadata": {},
   "outputs": [],
   "source": [
    "def vizu_reward(P, env):\n",
    "    average_rewards=[]\n",
    "    count_divergence=[]\n",
    "    vizu = []\n",
    "    if len(P)<100:\n",
    "        for i in range(len(P)-1):\n",
    "            policy = P[i+1]\n",
    "            average_reward, count_dv=compute_average_reward(policy, env)\n",
    "            average_rewards.append(average_reward)\n",
    "            count_divergence.append(count_dv)\n",
    "            vizu.append(average_reward-0.1*count_dv)\n",
    "        return(vizu, average_rewards, count_divergence)\n",
    "    else:\n",
    "        for i in range(0, len(P)-1,10 ):\n",
    "            policy = P[i+1]\n",
    "            average_reward, count_dv=compute_average_reward(policy, env)\n",
    "            average_rewards.append(average_reward)\n",
    "            count_divergence.append(count_dv)\n",
    "            vizu.append(average_reward-0.1*count_dv)\n",
    "        return(vizu, average_rewards, count_divergence)"
   ]
  },
  {
   "cell_type": "markdown",
   "metadata": {},
   "source": [
    "### Policy iteration\n",
    "https://medium.com/@annishared/searching-for-optimal-policies-in-python-an-intro-to-optimization-7182d6fe4dba"
   ]
  },
  {
   "cell_type": "code",
   "execution_count": 2,
   "metadata": {},
   "outputs": [],
   "source": [
    "def policy_eval(policy, env, discount_factor=1.0, theta=0.01):\n",
    "    # Initialize thel value function\n",
    "    V = np.zeros(env.nS)\n",
    "    # While our value function is worse than the threshold theta\n",
    "    while True:\n",
    "        # Keep track of the update done in value function\n",
    "        delta = 0\n",
    "        # For each state, look ahead one step at each possible action and next state\n",
    "        for s in range(env.nS):\n",
    "            v = 0\n",
    "            # The possible next actions, policy[s]:[a,action_prob]\n",
    "            for a, action_prob in enumerate(policy[s]): \n",
    "                # For each action, look at the possible next states, \n",
    "                for prob, next_state, reward, done in env.P[s][a]: # state transition P[s][a] == [(prob, nextstate, reward, done), ...]\n",
    "                    # Calculate the expected value function\n",
    "                    #print(reward, V[next_state], next_state)\n",
    "                    v += action_prob * prob * (reward + discount_factor * V[next_state]) # P[s, a, s']*(R(s,a,s')+γV[s'])\n",
    "                    # How much our value function changed across any states .  \n",
    "            delta = max(delta, np.abs(v - V[s]))\n",
    "            V[s] = v\n",
    "        # Stop evaluating once our value function update is below a threshold\n",
    "        if delta < theta:\n",
    "            break\n",
    "        \n",
    "    return np.array(V)"
   ]
  },
  {
   "cell_type": "code",
   "execution_count": 3,
   "metadata": {},
   "outputs": [],
   "source": [
    "\n",
    "def policy_improvement(env, policy_eval_fn=policy_eval, discount_factor=0.99, beta=0.01):\n",
    "    # Initiallize a policy arbitarily\n",
    "    policy = np.ones([env.nS, env.nA]) / env.nA #pick action randomly\n",
    "    i=0\n",
    "    P=[policy]\n",
    "    iteration = []\n",
    "    iteration_time=[]\n",
    "    policy_change=[]\n",
    "    innovation=[]\n",
    "    Values=[]\n",
    "    while i<10000:\n",
    "        t0=time.time()\n",
    "        iteration.append(i)\n",
    "        sigma=0\n",
    "        \n",
    "        print(i)\n",
    "        # Compute the Value Function for the current policy\n",
    "        V=policy_eval_fn(policy, env, discount_factor)\n",
    "        Values.append(V)\n",
    "        # Will be set to false if we update the policy\n",
    "        policy_stable = True\n",
    "        \n",
    "        # Improve the policy at each state\n",
    "        for s in range(env.nS):\n",
    "            # The best action we would take under the currect policy\n",
    "            chosen_a = np.argmax(policy[s])\n",
    "            # Find the best action by one-step lookahead\n",
    "            action_values = np.zeros(env.nA)\n",
    "            for a in range(env.nA):\n",
    "                for prob, next_state, reward, done in env.P[s][a]:\n",
    "                    action_values[a] += prob * (reward + discount_factor * V[next_state])\n",
    "            best_a = np.argmax(action_values)\n",
    "            \n",
    "            # Greedily (max in the above line) update the policy\n",
    "            if chosen_a != best_a:\n",
    "                policy_stable = False\n",
    "                sigma+=1\n",
    "            #sigma += np.mean(np.abs(policy[s]- np.eye(env.nA)[best_a]))\n",
    "            policy[s] = np.eye(env.nA)[best_a]\n",
    "        P.append(policy.copy())\n",
    "        iteration_time.append(time.time()-t0)\n",
    "        policy_change.append(sigma)\n",
    "        # Until we've found an optimal policy. Return it\n",
    "        if sigma<beta:\n",
    "            return policy, V, P, iteration, iteration_time, policy_change, Values\n",
    "        i+=1\n"
   ]
  },
  {
   "cell_type": "code",
   "execution_count": 14,
   "metadata": {},
   "outputs": [
    {
     "name": "stdout",
     "output_type": "stream",
     "text": [
      "0\n",
      "1\n",
      "2\n",
      "3\n",
      "4\n",
      "5\n",
      "6\n",
      "7\n",
      "8\n",
      "9\n",
      "10\n",
      "11\n",
      "12\n",
      "13\n",
      "14\n",
      "15\n",
      "16\n",
      "17\n",
      "18\n",
      "19\n",
      "20\n",
      "21\n",
      "22\n",
      "23\n",
      "24\n",
      "25\n",
      "26\n",
      "27\n",
      "28\n",
      "29\n"
     ]
    }
   ],
   "source": [
    "policy_pi_2, V_pi_2, P_pi_2, iterations_pi_2, iteration_time_pi_2, policy_change_pi_2, Values_pi_2 = policy_improvement(env2, discount_factor=0.95)"
   ]
  },
  {
   "cell_type": "code",
   "execution_count": 698,
   "metadata": {},
   "outputs": [
    {
     "data": {
      "image/png": "[encoded data removed]",
      "text/plain": [
       "<Figure size 432x288 with 1 Axes>"
      ]
     },
     "metadata": {
      "needs_background": "light"
     },
     "output_type": "display_data"
    }
   ],
   "source": [
    "innovation_pi_2=[]\n",
    "for i in range(1, len(Values_pi_2)-1):\n",
    "    innovation_pi_2.append(np.sum(np.abs(Values_pi_2[i]-Values_pi_2[i-1])))\n",
    "\n",
    "\n",
    "b = np.arange(2,len(innovation_pi_2))\n",
    "plt.plot(b, innovation_pi_2[2:])\n",
    "plt.ylabel('Innovation')\n",
    "plt.xlabel('Number of iterations')\n",
    "plt\n",
    "plt.show()"
   ]
  },
  {
   "cell_type": "code",
   "execution_count": 693,
   "metadata": {},
   "outputs": [
    {
     "data": {
      "image/png": "[encoded data removed]",
      "text/plain": [
       "<Figure size 432x288 with 1 Axes>"
      ]
     },
     "metadata": {
      "needs_background": "light"
     },
     "output_type": "display_data"
    }
   ],
   "source": [
    "b = np.arange(len(policy_change_pi_2))\n",
    "plt.plot(b, policy_change_pi_2 )\n",
    "plt.ylabel('Policy change')\n",
    "plt.xlabel('Number of epochs')\n",
    "plt.show()"
   ]
  },
  {
   "cell_type": "code",
   "execution_count": 691,
   "metadata": {},
   "outputs": [
    {
     "data": {
      "image/png": "[encoded data removed]",
      "text/plain": [
       "<Figure size 432x288 with 1 Axes>"
      ]
     },
     "metadata": {
      "needs_background": "light"
     },
     "output_type": "display_data"
    }
   ],
   "source": [
    "b = np.arange(len(iteration_time_pi_2))\n",
    "plt.plot(b, np.cumsum(iteration_time_pi_2 ))\n",
    "plt.ylabel('Total Training time')\n",
    "plt.xlabel('Number of epochs')\n",
    "plt.title('Cumulative Training Time')\n",
    "plt.show()\n"
   ]
  },
  {
   "cell_type": "markdown",
   "metadata": {},
   "source": [
    "#### Reward"
   ]
  },
  {
   "cell_type": "code",
   "execution_count": 22,
   "metadata": {},
   "outputs": [],
   "source": [
    "vizu_pi_2, av_pi_2, ct_dv_pi_2 = vizu_reward(P_pi_2, env2) "
   ]
  },
  {
   "cell_type": "code",
   "execution_count": 29,
   "metadata": {},
   "outputs": [
    {
     "name": "stdout",
     "output_type": "stream",
     "text": [
      "[14485, 14127, 13833, 13436, 13065, 12039, 11356, 10464, 9629, 8667, 7516, 6402, 5235, 4073, 3109, 2303, 1832, 1389, 993, 678, 473, 249, 147, 65, 24, 0, 0, 0, 0, 0]\n"
     ]
    }
   ],
   "source": [
    "print(ct_dv_pi_2)"
   ]
  },
  {
   "cell_type": "code",
   "execution_count": 30,
   "metadata": {},
   "outputs": [
    {
     "data": {
      "image/png": "[encoded data removed]",
      "text/plain": [
       "<Figure size 432x288 with 1 Axes>"
      ]
     },
     "metadata": {
      "needs_background": "light"
     },
     "output_type": "display_data"
    }
   ],
   "source": [
    "b = np.arange(len(ct_dv_pi_2))\n",
    "plt.plot(b, ct_dv_pi_2 )\n",
    "plt.ylabel('Number of diverging states')\n",
    "plt.xlabel('Number of epochs')\n",
    "plt.show()"
   ]
  },
  {
   "cell_type": "code",
   "execution_count": 32,
   "metadata": {},
   "outputs": [
    {
     "data": {
      "image/png": "[encoded data removed]",
      "text/plain": [
       "<Figure size 432x288 with 1 Axes>"
      ]
     },
     "metadata": {
      "needs_background": "light"
     },
     "output_type": "display_data"
    }
   ],
   "source": [
    "b = np.arange(len( av_pi_2))\n",
    "plt.plot(b,  av_pi_2 )\n",
    "plt.ylabel('Number of diverging states')\n",
    "plt.xlabel('Number of epochs')\n",
    "plt.show()"
   ]
  },
  {
   "cell_type": "code",
   "execution_count": 34,
   "metadata": {},
   "outputs": [
    {
     "data": {
      "image/png": "[encoded data removed]",
      "text/plain": [
       "<Figure size 432x288 with 1 Axes>"
      ]
     },
     "metadata": {
      "needs_background": "light"
     },
     "output_type": "display_data"
    }
   ],
   "source": [
    "b = np.arange(18,len(vizu_pi_2))\n",
    "plt.plot(b, vizu_pi_2[18:] )\n",
    "plt.ylabel('Reward')\n",
    "plt.xlabel('Number of iterations')\n",
    "plt.show()"
   ]
  },
  {
   "cell_type": "markdown",
   "metadata": {},
   "source": [
    "#### Vizualization of the policy"
   ]
  },
  {
   "cell_type": "code",
   "execution_count": 629,
   "metadata": {},
   "outputs": [
    {
     "name": "stdout",
     "output_type": "stream",
     "text": [
      "+-----------------------------+\n",
      "|R: : : : | : : : :\u001b[35mG\u001b[0m: : : : : |\n",
      "| : : : : | : : : : : : : : : |\n",
      "| : : : : | : : : : : : : : : |\n",
      "| : : : : : : : | : : : | : : |\n",
      "| : | : :Y: : : | : : : | : :B|\n",
      "| : | : : : : : : : : : | : : |\n",
      "| : | : : : : : : : : : | : : |\n",
      "| : | : : : : : : : : : : : : |\n",
      "|\u001b[34;1mO\u001b[0m: : : : : : | : : : : : : : |\n",
      "| : : : : : : | : :P: : : : : |\n",
      "| : : : : : : | : : : : : : : |\n",
      "| : : : : : : : : : : | : : : |\n",
      "| : : : | : : : : : : | : : : |\n",
      "| : : : | : : : : : : | : : : |\n",
      "| : :M: | : : : : : : | :C: :\u001b[43m \u001b[0m|\n",
      "+-----------------------------+\n",
      "  (Pickup)\n",
      "|s|s|s|s|s|s|s|s|s|s|s|s|s|s|s|\n",
      "|s|s|s|s|s|s|s|s|s|s|s|s|s|s|s|\n",
      "|s|s|s|s|s|s|s|s|s|s|s|s|s|s|s|\n",
      "|s|s|s|s|s|s|s|s|s|s|s|s|s|s|s|\n",
      "|s|s|s|s|s|s|s|s|s|s|s|s|s|s|s|\n",
      "|s|s|s|s|s|s|s|s|s|s|s|s|s|s|s|\n",
      "|s|s|s|s|s|s|s|s|s|s|s|s|s|s|s|\n",
      "|s|s|s|s|s|s|s|w|w|w|w|w|w|w|w|\n",
      "|p|w|w|w|w|w|w|n|n|n|n|n|n|n|n|\n",
      "|n|n|n|n|n|n|n|n|n|n|n|n|n|n|n|\n",
      "|n|n|n|n|n|n|n|s|s|s|s|n|n|n|n|\n",
      "|n|n|n|n|n|n|n|w|w|w|w|n|n|n|n|\n",
      "|n|n|n|n|n|n|n|n|n|n|n|n|n|n|n|\n",
      "|n|n|n|n|n|n|n|n|n|n|n|n|n|n|n|\n",
      "|n|n|n|n|n|n|n|n|n|n|n|n|n|n|n|\n"
     ]
    }
   ],
   "source": [
    "visu_2, s0 = visualize_policy(policy_pi_2, 15, 15)\n",
    "env2.s = s0\n",
    "env2.render()\n",
    "for i in range(len(visu_2)):\n",
    "    print(visu_2[i])"
   ]
  },
  {
   "cell_type": "markdown",
   "metadata": {},
   "source": [
    "### Value iteration \n",
    "https://medium.com/@annishared/searching-for-optimal-policies-in-python-an-intro-to-optimization-7182d6fe4dba"
   ]
  },
  {
   "cell_type": "code",
   "execution_count": 36,
   "metadata": {},
   "outputs": [],
   "source": [
    "import time\n",
    "def value_iteration(env, theta=0.0000000001, discount_factor=0.3):\n",
    "    # Look ahead one step at each possible action and next state (full backup)  \n",
    "    innovation = []\n",
    "    iteration = []\n",
    "    iteration_time=[]\n",
    "    P=[]\n",
    "    def one_step_lookahead(state, V):\n",
    "        \"\"\"\n",
    "        Helper function to calculate the value for all action in a given state.\n",
    "        \n",
    "        Args:\n",
    "            state: The state to consider (int)\n",
    "            V: The value to use as an estimator, Vector of length env.nS\n",
    "        \n",
    "        Returns:\n",
    "            A vector of length env.nA containing the expected value of each action.\n",
    "        \"\"\"\n",
    "        A = np.zeros(env.nA)\n",
    "        for a in range(env.nA):\n",
    "            for prob, next_state, reward, done in env.P[state][a]:\n",
    "                A[a] += prob * (reward + discount_factor * V[next_state])\n",
    "        return A\n",
    "    \n",
    "    V = np.zeros(env.nS)\n",
    "    i=0\n",
    "    while True:\n",
    "        t0=time.time()\n",
    "        iteration.append(i)\n",
    "        i+=1\n",
    "        # Stopping condition\n",
    "        delta = 0\n",
    "        # Update each state...\n",
    "\n",
    "        policy = np.zeros([env.nS, env.nA])\n",
    "        for s in range(env.nS):\n",
    "            # Do a one-step lookahead to find the best action\n",
    "            A = one_step_lookahead(s, V)\n",
    "            best_action_value = np.max(A)\n",
    "            best_action = np.argmax(A)\n",
    "            policy[s, best_action] = 1.0\n",
    "            # Calculate delta across all states seen so far\n",
    "            #delta = max(delta, np.abs(best_action_value - V[s]))\n",
    "            delta += np.abs(best_action_value - V[s])\n",
    "\n",
    "            # Update the value function\n",
    "            V[s] = best_action_value\n",
    "            env.s=s\n",
    "        P.append(policy)\n",
    "\n",
    "        # Check if we can stop \n",
    "        innovation.append(delta)\n",
    "        iteration_time.append(time.time()-t0)\n",
    "        if delta < theta:\n",
    "            break\n",
    "    \n",
    "    # Create a deterministic policy using the optimal value function\n",
    "    policy = np.zeros([env.nS, env.nA])\n",
    "    for s in range(env.nS):\n",
    "        # One step lookahead to find the best action for this state\n",
    "        A = one_step_lookahead(s, V)\n",
    "        best_action = np.argmax(A)\n",
    "        # Always take the best action\n",
    "        policy[s, best_action] = 1.0\n",
    "    P.append(policy)\n",
    "    return policy, V, innovation, iteration, iteration_time, P"
   ]
  },
  {
   "cell_type": "code",
   "execution_count": 37,
   "metadata": {},
   "outputs": [],
   "source": [
    "policy_vi_2, V_vi_2, innovation_vi_2, iteration_vi_2, iteration_time_vi_2 , P_vi_2= value_iteration(env2, discount_factor=0.99)"
   ]
  },
  {
   "cell_type": "code",
   "execution_count": 70,
   "metadata": {},
   "outputs": [],
   "source": [
    "VI_gamma_95=value_iteration(env2, discount_factor=0.95)"
   ]
  },
  {
   "cell_type": "markdown",
   "metadata": {},
   "source": [
    "#### Plot Innovation Curve"
   ]
  },
  {
   "cell_type": "code",
   "execution_count": 40,
   "metadata": {},
   "outputs": [
    {
     "data": {
      "image/png": "[encoded data removed]",
      "text/plain": [
       "<Figure size 432x288 with 1 Axes>"
      ]
     },
     "metadata": {
      "needs_background": "light"
     },
     "output_type": "display_data"
    }
   ],
   "source": [
    "b = np.arange(len(innovation_vi_2))\n",
    "plt.plot(b, innovation_vi_2 )\n",
    "plt.ylabel('Innovation')\n",
    "plt.xlabel('Number of iterations')\n",
    "plt.show()"
   ]
  },
  {
   "cell_type": "markdown",
   "metadata": {},
   "source": [
    "#### Plot iteration time"
   ]
  },
  {
   "cell_type": "code",
   "execution_count": 625,
   "metadata": {},
   "outputs": [
    {
     "data": {
      "image/png": "[encoded data removed]",
      "text/plain": [
       "<Figure size 432x288 with 1 Axes>"
      ]
     },
     "metadata": {
      "needs_background": "light"
     },
     "output_type": "display_data"
    }
   ],
   "source": [
    "b = np.arange(len(iteration_time_vi_2))\n",
    "plt.plot(b, iteration_time_vi_2 )\n",
    "plt.ylabel('Iteration time')\n",
    "plt.xlabel('Number of iterations')\n",
    "plt.show()"
   ]
  },
  {
   "cell_type": "code",
   "execution_count": 102,
   "metadata": {},
   "outputs": [
    {
     "data": {
      "image/png": "[encoded data removed]",
      "text/plain": [
       "<Figure size 432x288 with 1 Axes>"
      ]
     },
     "metadata": {
      "needs_background": "light"
     },
     "output_type": "display_data"
    }
   ],
   "source": [
    "b = np.arange(len(iteration_time_vi_2))\n",
    "plt.plot(b, np.cumsum(iteration_time_vi_2 ))\n",
    "plt.ylabel('Training time')\n",
    "plt.xlabel('Number of iterations')\n",
    "plt.title('Cumulative Training Time')\n",
    "plt.show()"
   ]
  },
  {
   "cell_type": "markdown",
   "metadata": {},
   "source": [
    "#### let's vizualize the route the taxi will take for a given initial state"
   ]
  },
  {
   "cell_type": "code",
   "execution_count": 600,
   "metadata": {},
   "outputs": [
    {
     "name": "stdout",
     "output_type": "stream",
     "text": [
      "+-----------------------------+\n",
      "|R: : : : | : : : :\u001b[35mG\u001b[0m: : : : : |\n",
      "| : : : : | : : : : : : : : : |\n",
      "| : : : : | : : : : : : : : : |\n",
      "| : : : : : : : | : : : | : : |\n",
      "| : | : :Y: : : | : : : | : :B|\n",
      "| : | : : : : : : : : : | : : |\n",
      "| : | : : : : : : : : : | : : |\n",
      "| : | : : : : : : : : : : : : |\n",
      "|O: : : : : : | : : : : : : : |\n",
      "| : : : : : : | : :P: : : : : |\n",
      "| : : : : : : | : : : : : : : |\n",
      "| : : : : : : : : : : | : : : |\n",
      "| : : : | : : : : : : | : : : |\n",
      "| : : : | : : : : : : | : : : |\n",
      "| : :M: | : : : : : : | :C: :\u001b[42m_\u001b[0m|\n",
      "+-----------------------------+\n",
      "  (Dropoff)\n",
      "|s|s|s|s|s|e|e|e|e|d|w|w|w|w|w|\n",
      "|s|s|s|s|s|n|n|n|n|n|n|n|n|n|n|\n",
      "|s|s|s|s|s|n|n|n|n|n|n|n|n|n|n|\n",
      "|e|e|e|e|e|n|n|n|n|n|n|n|n|n|n|\n",
      "|n|n|n|n|n|n|n|n|n|n|n|n|n|n|n|\n",
      "|n|n|n|n|n|n|n|n|n|n|n|n|n|n|n|\n",
      "|n|n|n|n|n|n|n|n|n|n|n|n|n|n|n|\n",
      "|n|n|n|n|n|n|n|n|n|n|n|n|n|n|n|\n",
      "|n|n|n|n|n|n|n|n|n|n|n|n|n|n|n|\n",
      "|n|n|n|n|n|n|n|n|n|n|n|n|n|n|n|\n",
      "|n|n|n|n|n|n|n|n|n|n|n|n|n|n|n|\n",
      "|n|n|n|n|n|n|n|n|n|n|n|n|n|n|n|\n",
      "|n|n|n|n|n|n|n|n|n|n|n|n|n|n|n|\n",
      "|n|n|n|n|n|n|n|n|n|n|n|n|n|n|n|\n",
      "|n|n|n|n|n|n|n|n|n|n|n|n|n|n|n|\n"
     ]
    }
   ],
   "source": [
    "visu_2, s0 = visualize_policy(policy_vi_2, 15, 15)\n",
    "env2.s = s0\n",
    "env2.render()\n",
    "for i in range(len(visu_2)):\n",
    "    print(visu_2[i])"
   ]
  },
  {
   "cell_type": "markdown",
   "metadata": {},
   "source": [
    "#### Comparaison with policy_vi"
   ]
  },
  {
   "cell_type": "code",
   "execution_count": 650,
   "metadata": {},
   "outputs": [
    {
     "name": "stdout",
     "output_type": "stream",
     "text": [
      "|s|s|s|s|s|s|s|s|s|s|s|s|s|s|s|\n",
      "|s|s|s|s|s|s|s|s|s|s|s|s|s|s|s|\n",
      "|s|s|s|s|s|s|s|s|w|w|w|w|w|w|w|\n",
      "|e|e|s|s|s|s|s|s|s|s|s|s|n|n|n|\n",
      "|n|n|e|e|p|w|w|w|s|s|s|s|n|n|n|\n",
      "|n|n|n|n|n|n|n|n|w|w|w|w|s|s|s|\n",
      "|n|n|n|n|n|n|n|n|n|n|n|n|s|s|s|\n",
      "|s|s|n|n|n|n|n|n|n|n|n|n|w|w|w|\n",
      "|e|e|n|n|n|n|n|n|n|n|n|n|n|n|n|\n",
      "|n|n|n|n|n|n|n|n|n|n|n|n|n|n|n|\n",
      "|n|n|n|n|n|n|n|n|n|n|n|n|n|n|n|\n",
      "|n|n|n|n|n|n|n|n|n|n|n|n|n|n|n|\n",
      "|n|n|n|n|n|n|n|n|n|n|n|n|n|n|n|\n",
      "|n|n|n|n|n|n|n|n|n|n|n|n|n|n|n|\n",
      "|n|n|n|n|n|n|n|n|n|n|n|n|n|n|n|\n",
      "------------------------------\n",
      "|s|s|s|s|s|s|s|s|s|s|s|s|s|s|s|\n",
      "|s|s|s|s|s|s|s|s|s|s|s|s|s|s|s|\n",
      "|s|s|s|s|s|s|s|s|w|w|w|w|w|w|w|\n",
      "|e|e|s|s|s|s|s|s|s|s|s|s|n|n|n|\n",
      "|e|n|e|e|p|w|w|w|s|s|s|s|n|n|n|\n",
      "|e|n|e|e|n|n|n|n|w|w|w|w|s|s|s|\n",
      "|e|n|e|e|n|n|n|n|n|n|n|n|s|s|s|\n",
      "|s|s|e|e|n|n|n|n|n|n|n|n|w|w|w|\n",
      "|e|e|e|e|n|n|n|n|n|n|n|n|n|n|n|\n",
      "|e|e|e|e|n|n|n|n|n|n|n|n|n|n|n|\n",
      "|e|e|e|e|n|n|n|n|n|n|n|n|n|n|n|\n",
      "|e|e|e|e|n|n|n|n|n|n|n|n|n|n|n|\n",
      "|e|e|e|n|n|n|n|n|n|n|n|n|n|n|n|\n",
      "|e|e|e|n|n|n|n|n|n|n|n|n|n|n|n|\n",
      "|e|e|e|n|n|n|n|n|n|n|n|n|n|n|n|\n",
      "+-----------------------------+\n",
      "|R: : : : | : : : :\u001b[35mG\u001b[0m: : : : : |\n",
      "| : : : : | : : : : : : : : : |\n",
      "| : : : : | : : : : : : : : : |\n",
      "| : : : : : : : | : : : | : : |\n",
      "| : | : :\u001b[34;1mY\u001b[0m: : : | : : : | : :B|\n",
      "| : | : : : : : : : : : | : : |\n",
      "| : | : : : : : : : : : | : : |\n",
      "| : | : : : : : : : : : : : : |\n",
      "|O: : : : : : | : : : : : : : |\n",
      "| : : : : : : | : :P: : : : : |\n",
      "| : : : : : : | : : : : : : : |\n",
      "| : : : : : : : : : : | : : : |\n",
      "| : : : | : : : : : : | : : : |\n",
      "| : : : | : : : : : : | : : : |\n",
      "| : :M: | : : : : : : | :C: :\u001b[43m \u001b[0m|\n",
      "+-----------------------------+\n",
      "  (Pickup)\n"
     ]
    }
   ],
   "source": [
    "visu_2, s0 = visualize_policy(policy_vi_2, 15, 15)\n",
    "for i in range(len(visu_2)):\n",
    "    print(visu_2[i])\n",
    "print( \"------------------------------\")\n",
    "visu_3, s0 = visualize_policy(policy_pi_2, 15, 15)\n",
    "for i in range(len(visu_3)):\n",
    "    print(visu_3[i])\n",
    "env2.s=s0\n",
    "env2.render()"
   ]
  },
  {
   "cell_type": "markdown",
   "metadata": {},
   "source": [
    "###  average reward function number of iterations for policy iteration"
   ]
  },
  {
   "cell_type": "code",
   "execution_count": 63,
   "metadata": {},
   "outputs": [
    {
     "data": {
      "image/png": "[encoded data removed]",
      "text/plain": [
       "<Figure size 432x288 with 1 Axes>"
      ]
     },
     "metadata": {
      "needs_background": "light"
     },
     "output_type": "display_data"
    }
   ],
   "source": [
    "b = np.arange(len(ct_dv_vi21))\n",
    "plt.plot(b, ct_dv_vi21 )\n",
    "plt.ylabel('Number of diverging states')\n",
    "plt.xlabel('Number of epochs')\n",
    "plt.show()"
   ]
  },
  {
   "cell_type": "code",
   "execution_count": 54,
   "metadata": {},
   "outputs": [],
   "source": [
    "vizu_vi_21, av_vi_21, ct_dv_vi21 = vizu_reward(P_vi_2[0:99], env2) "
   ]
  },
  {
   "cell_type": "code",
   "execution_count": 69,
   "metadata": {},
   "outputs": [
    {
     "name": "stdout",
     "output_type": "stream",
     "text": [
      "[22 23 24 25 26 27 28 29 30 31 32 33 34 35 36 37 38 39 40 41 42 43 44 45\n",
      " 46 47 48 49 50 51 52 53 54 55 56 57 58 59 60 61 62 63 64 65 66 67 68 69\n",
      " 70 71 72 73 74 75 76 77 78 79 80 81 82 83 84 85 86 87 88 89 90 91 92 93\n",
      " 94 95 96 97]\n"
     ]
    },
    {
     "data": {
      "image/png": "[encoded data removed]",
      "text/plain": [
       "<Figure size 432x288 with 1 Axes>"
      ]
     },
     "metadata": {
      "needs_background": "light"
     },
     "output_type": "display_data"
    }
   ],
   "source": [
    "b = np.arange(22,len(vizu_vi_21))\n",
    "print(b)\n",
    "plt.plot(b, vizu_vi_21[22:] )\n",
    "plt.ylabel('Average Reward')\n",
    "plt.xlabel('Number of epochs')\n",
    "plt.show()"
   ]
  },
  {
   "cell_type": "code",
   "execution_count": 92,
   "metadata": {},
   "outputs": [],
   "source": [
    "vizu_vi_2_95, av_vi_2_95, ct_dv_vi2_95 = vizu_reward(VI_gamma_95[5][0:50], env2) "
   ]
  },
  {
   "cell_type": "code",
   "execution_count": 96,
   "metadata": {},
   "outputs": [
    {
     "data": {
      "image/png": "[encoded data removed]",
      "text/plain": [
       "<Figure size 432x288 with 1 Axes>"
      ]
     },
     "metadata": {
      "needs_background": "light"
     },
     "output_type": "display_data"
    }
   ],
   "source": [
    "b = np.arange(20,len(vizu_vi_2_95))\n",
    "plt.plot(b, vizu_vi_2_95[20:])\n",
    "plt.ylabel('Average Reward')\n",
    "plt.xlabel('Number of epochs')\n",
    "plt.show()"
   ]
  },
  {
   "cell_type": "code",
   "execution_count": 95,
   "metadata": {},
   "outputs": [
    {
     "data": {
      "image/png": "[encoded data removed]",
      "text/plain": [
       "<Figure size 432x288 with 1 Axes>"
      ]
     },
     "metadata": {
      "needs_background": "light"
     },
     "output_type": "display_data"
    }
   ],
   "source": [
    "b = np.arange(len(ct_dv_vi2_95))\n",
    "plt.plot(b, ct_dv_vi2_95 )\n",
    "plt.ylabel('Number of diverging states')\n",
    "plt.xlabel('Number of epochs')\n",
    "plt.show()"
   ]
  },
  {
   "cell_type": "markdown",
   "metadata": {},
   "source": [
    "#### tuning of gamma "
   ]
  },
  {
   "cell_type": "code",
   "execution_count": 548,
   "metadata": {},
   "outputs": [
    {
     "name": "stdout",
     "output_type": "stream",
     "text": [
      "0.05\n",
      "0.1\n",
      "0.2\n",
      "0.3\n",
      "0.4\n",
      "0.5\n",
      "0.7\n",
      "0.9\n",
      "0.95\n",
      "0.99\n"
     ]
    }
   ],
   "source": [
    "gammas = [0.05, 0.1, 0.2, 0.3, 0.4, 0.5, 0.7, 0.9, 0.95, 0.99]\n",
    "policy_vi2_gamma=[]\n",
    "V_vi2_gamma=[]\n",
    "iteration_time_vi_2_gamma=[]\n",
    "iteration_vi_2_gamma=[]\n",
    "innovation_vi_2_gamma=[]\n",
    "for gamma in gammas:\n",
    "    print(gamma)\n",
    "    policy_vi_2, V_vi_2, innovation_vi_2, iteration_vi_2, iteration_time_vi_2 , P_vi_2= value_iteration(env2, discount_factor=gamma)\n",
    "    policy_vi2_gamma.append(policy_vi_2)\n",
    "    V_vi2_gamma.append(V_vi_2)\n",
    "    iteration_time_vi_2_gamma.append(iteration_time_vi_2)\n",
    "    iteration_vi_2_gamma.append(iteration_vi_2)\n",
    "    innovation_vi_2_gamma.append(innovation_vi_2)\n",
    "    \n",
    "    "
   ]
  },
  {
   "cell_type": "markdown",
   "metadata": {},
   "source": [
    "#### Vizualization of the route of the taxi for a random initial state"
   ]
  },
  {
   "cell_type": "code",
   "execution_count": 516,
   "metadata": {},
   "outputs": [
    {
     "name": "stdout",
     "output_type": "stream",
     "text": [
      "+-----------------------------+\n",
      "|R: : : : | : : : :G:\u001b[43m \u001b[0m: : : : |\n",
      "| : : : : | : : : : : : : : : |\n",
      "| : : : : | : : : : : : : : : |\n",
      "| : : : : : : : | : : : | : : |\n",
      "| : | : :Y: : : | : : : | : :B|\n",
      "| : | : : : : : : : : : | : : |\n",
      "| : | : : : : : : : : : | : : |\n",
      "| : | : : : : : : : : : : : : |\n",
      "|O: : : : : : | : : : : : : : |\n",
      "| : : : : : : | : :\u001b[34;1mP\u001b[0m: : : : : |\n",
      "| : : : : : : | : : : : : : : |\n",
      "| : : : : : : : : : : | : : : |\n",
      "| : : : | : : : : : : | : : : |\n",
      "| : : : | : : : : : : | : : : |\n",
      "| : :\u001b[35mM\u001b[0m: | : : : : : : | :C: : |\n",
      "+-----------------------------+\n",
      "  (Dropoff)\n",
      "0 [1 0 0 0 0 0]\n",
      "+-----------------------------+\n",
      "|R: : : : | : : : :G: : : : : |\n",
      "| : : : : | : : : : :\u001b[43m \u001b[0m: : : : |\n",
      "| : : : : | : : : : : : : : : |\n",
      "| : : : : : : : | : : : | : : |\n",
      "| : | : :Y: : : | : : : | : :B|\n",
      "| : | : : : : : : : : : | : : |\n",
      "| : | : : : : : : : : : | : : |\n",
      "| : | : : : : : : : : : : : : |\n",
      "|O: : : : : : | : : : : : : : |\n",
      "| : : : : : : | : :\u001b[34;1mP\u001b[0m: : : : : |\n",
      "| : : : : : : | : : : : : : : |\n",
      "| : : : : : : : : : : | : : : |\n",
      "| : : : | : : : : : : | : : : |\n",
      "| : : : | : : : : : : | : : : |\n",
      "| : :\u001b[35mM\u001b[0m: | : : : : : : | :C: : |\n",
      "+-----------------------------+\n",
      "  (South)\n",
      "0 [1 0 0 0 0 0]\n",
      "+-----------------------------+\n",
      "|R: : : : | : : : :G: : : : : |\n",
      "| : : : : | : : : : : : : : : |\n",
      "| : : : : | : : : : :\u001b[43m \u001b[0m: : : : |\n",
      "| : : : : : : : | : : : | : : |\n",
      "| : | : :Y: : : | : : : | : :B|\n",
      "| : | : : : : : : : : : | : : |\n",
      "| : | : : : : : : : : : | : : |\n",
      "| : | : : : : : : : : : : : : |\n",
      "|O: : : : : : | : : : : : : : |\n",
      "| : : : : : : | : :\u001b[34;1mP\u001b[0m: : : : : |\n",
      "| : : : : : : | : : : : : : : |\n",
      "| : : : : : : : : : : | : : : |\n",
      "| : : : | : : : : : : | : : : |\n",
      "| : : : | : : : : : : | : : : |\n",
      "| : :\u001b[35mM\u001b[0m: | : : : : : : | :C: : |\n",
      "+-----------------------------+\n",
      "  (South)\n",
      "0 [1 0 0 0 0 0]\n",
      "+-----------------------------+\n",
      "|R: : : : | : : : :G: : : : : |\n",
      "| : : : : | : : : : : : : : : |\n",
      "| : : : : | : : : : : : : : : |\n",
      "| : : : : : : : | : :\u001b[43m \u001b[0m: | : : |\n",
      "| : | : :Y: : : | : : : | : :B|\n",
      "| : | : : : : : : : : : | : : |\n",
      "| : | : : : : : : : : : | : : |\n",
      "| : | : : : : : : : : : : : : |\n",
      "|O: : : : : : | : : : : : : : |\n",
      "| : : : : : : | : :\u001b[34;1mP\u001b[0m: : : : : |\n",
      "| : : : : : : | : : : : : : : |\n",
      "| : : : : : : : : : : | : : : |\n",
      "| : : : | : : : : : : | : : : |\n",
      "| : : : | : : : : : : | : : : |\n",
      "| : :\u001b[35mM\u001b[0m: | : : : : : : | :C: : |\n",
      "+-----------------------------+\n",
      "  (South)\n",
      "3 [0 0 0 1 0 0]\n",
      "+-----------------------------+\n",
      "|R: : : : | : : : :G: : : : : |\n",
      "| : : : : | : : : : : : : : : |\n",
      "| : : : : | : : : : : : : : : |\n",
      "| : : : : : : : | :\u001b[43m \u001b[0m: : | : : |\n",
      "| : | : :Y: : : | : : : | : :B|\n",
      "| : | : : : : : : : : : | : : |\n",
      "| : | : : : : : : : : : | : : |\n",
      "| : | : : : : : : : : : : : : |\n",
      "|O: : : : : : | : : : : : : : |\n",
      "| : : : : : : | : :\u001b[34;1mP\u001b[0m: : : : : |\n",
      "| : : : : : : | : : : : : : : |\n",
      "| : : : : : : : : : : | : : : |\n",
      "| : : : | : : : : : : | : : : |\n",
      "| : : : | : : : : : : | : : : |\n",
      "| : :\u001b[35mM\u001b[0m: | : : : : : : | :C: : |\n",
      "+-----------------------------+\n",
      "  (West)\n",
      "0 [1 0 0 0 0 0]\n",
      "+-----------------------------+\n",
      "|R: : : : | : : : :G: : : : : |\n",
      "| : : : : | : : : : : : : : : |\n",
      "| : : : : | : : : : : : : : : |\n",
      "| : : : : : : : | : : : | : : |\n",
      "| : | : :Y: : : | :\u001b[43m \u001b[0m: : | : :B|\n",
      "| : | : : : : : : : : : | : : |\n",
      "| : | : : : : : : : : : | : : |\n",
      "| : | : : : : : : : : : : : : |\n",
      "|O: : : : : : | : : : : : : : |\n",
      "| : : : : : : | : :\u001b[34;1mP\u001b[0m: : : : : |\n",
      "| : : : : : : | : : : : : : : |\n",
      "| : : : : : : : : : : | : : : |\n",
      "| : : : | : : : : : : | : : : |\n",
      "| : : : | : : : : : : | : : : |\n",
      "| : :\u001b[35mM\u001b[0m: | : : : : : : | :C: : |\n",
      "+-----------------------------+\n",
      "  (South)\n",
      "0 [1 0 0 0 0 0]\n",
      "+-----------------------------+\n",
      "|R: : : : | : : : :G: : : : : |\n",
      "| : : : : | : : : : : : : : : |\n",
      "| : : : : | : : : : : : : : : |\n",
      "| : : : : : : : | : : : | : : |\n",
      "| : | : :Y: : : | : : : | : :B|\n",
      "| : | : : : : : : :\u001b[43m \u001b[0m: : | : : |\n",
      "| : | : : : : : : : : : | : : |\n",
      "| : | : : : : : : : : : : : : |\n",
      "|O: : : : : : | : : : : : : : |\n",
      "| : : : : : : | : :\u001b[34;1mP\u001b[0m: : : : : |\n",
      "| : : : : : : | : : : : : : : |\n",
      "| : : : : : : : : : : | : : : |\n",
      "| : : : | : : : : : : | : : : |\n",
      "| : : : | : : : : : : | : : : |\n",
      "| : :\u001b[35mM\u001b[0m: | : : : : : : | :C: : |\n",
      "+-----------------------------+\n",
      "  (South)\n",
      "0 [1 0 0 0 0 0]\n",
      "+-----------------------------+\n",
      "|R: : : : | : : : :G: : : : : |\n",
      "| : : : : | : : : : : : : : : |\n",
      "| : : : : | : : : : : : : : : |\n",
      "| : : : : : : : | : : : | : : |\n",
      "| : | : :Y: : : | : : : | : :B|\n",
      "| : | : : : : : : : : : | : : |\n",
      "| : | : : : : : : :\u001b[43m \u001b[0m: : | : : |\n",
      "| : | : : : : : : : : : : : : |\n",
      "|O: : : : : : | : : : : : : : |\n",
      "| : : : : : : | : :\u001b[34;1mP\u001b[0m: : : : : |\n",
      "| : : : : : : | : : : : : : : |\n",
      "| : : : : : : : : : : | : : : |\n",
      "| : : : | : : : : : : | : : : |\n",
      "| : : : | : : : : : : | : : : |\n",
      "| : :\u001b[35mM\u001b[0m: | : : : : : : | :C: : |\n",
      "+-----------------------------+\n",
      "  (South)\n",
      "0 [1 0 0 0 0 0]\n",
      "+-----------------------------+\n",
      "|R: : : : | : : : :G: : : : : |\n",
      "| : : : : | : : : : : : : : : |\n",
      "| : : : : | : : : : : : : : : |\n",
      "| : : : : : : : | : : : | : : |\n",
      "| : | : :Y: : : | : : : | : :B|\n",
      "| : | : : : : : : : : : | : : |\n",
      "| : | : : : : : : : : : | : : |\n",
      "| : | : : : : : : :\u001b[43m \u001b[0m: : : : : |\n",
      "|O: : : : : : | : : : : : : : |\n",
      "| : : : : : : | : :\u001b[34;1mP\u001b[0m: : : : : |\n",
      "| : : : : : : | : : : : : : : |\n",
      "| : : : : : : : : : : | : : : |\n",
      "| : : : | : : : : : : | : : : |\n",
      "| : : : | : : : : : : | : : : |\n",
      "| : :\u001b[35mM\u001b[0m: | : : : : : : | :C: : |\n",
      "+-----------------------------+\n",
      "  (South)\n",
      "0 [1 0 0 0 0 0]\n",
      "+-----------------------------+\n",
      "|R: : : : | : : : :G: : : : : |\n",
      "| : : : : | : : : : : : : : : |\n",
      "| : : : : | : : : : : : : : : |\n",
      "| : : : : : : : | : : : | : : |\n",
      "| : | : :Y: : : | : : : | : :B|\n",
      "| : | : : : : : : : : : | : : |\n",
      "| : | : : : : : : : : : | : : |\n",
      "| : | : : : : : : : : : : : : |\n",
      "|O: : : : : : | : :\u001b[43m \u001b[0m: : : : : |\n",
      "| : : : : : : | : :\u001b[34;1mP\u001b[0m: : : : : |\n",
      "| : : : : : : | : : : : : : : |\n",
      "| : : : : : : : : : : | : : : |\n",
      "| : : : | : : : : : : | : : : |\n",
      "| : : : | : : : : : : | : : : |\n",
      "| : :\u001b[35mM\u001b[0m: | : : : : : : | :C: : |\n",
      "+-----------------------------+\n",
      "  (South)\n",
      "0 [1 0 0 0 0 0]\n",
      "+-----------------------------+\n",
      "|R: : : : | : : : :G: : : : : |\n",
      "| : : : : | : : : : : : : : : |\n",
      "| : : : : | : : : : : : : : : |\n",
      "| : : : : : : : | : : : | : : |\n",
      "| : | : :Y: : : | : : : | : :B|\n",
      "| : | : : : : : : : : : | : : |\n",
      "| : | : : : : : : : : : | : : |\n",
      "| : | : : : : : : : : : : : : |\n",
      "|O: : : : : : | : : : : : : : |\n",
      "| : : : : : : | : :\u001b[34;1m\u001b[43mP\u001b[0m\u001b[0m: : : : : |\n",
      "| : : : : : : | : : : : : : : |\n",
      "| : : : : : : : : : : | : : : |\n",
      "| : : : | : : : : : : | : : : |\n",
      "| : : : | : : : : : : | : : : |\n",
      "| : :\u001b[35mM\u001b[0m: | : : : : : : | :C: : |\n",
      "+-----------------------------+\n",
      "  (South)\n",
      "4 [0 0 0 0 1 0]\n",
      "+-----------------------------+\n",
      "|R: : : : | : : : :G: : : : : |\n",
      "| : : : : | : : : : : : : : : |\n",
      "| : : : : | : : : : : : : : : |\n",
      "| : : : : : : : | : : : | : : |\n",
      "| : | : :Y: : : | : : : | : :B|\n",
      "| : | : : : : : : : : : | : : |\n",
      "| : | : : : : : : : : : | : : |\n",
      "| : | : : : : : : : : : : : : |\n",
      "|O: : : : : : | : : : : : : : |\n",
      "| : : : : : : | : :\u001b[42mP\u001b[0m: : : : : |\n",
      "| : : : : : : | : : : : : : : |\n",
      "| : : : : : : : : : : | : : : |\n",
      "| : : : | : : : : : : | : : : |\n",
      "| : : : | : : : : : : | : : : |\n",
      "| : :\u001b[35mM\u001b[0m: | : : : : : : | :C: : |\n",
      "+-----------------------------+\n",
      "  (Pickup)\n",
      "0 [1 0 0 0 0 0]\n",
      "+-----------------------------+\n",
      "|R: : : : | : : : :G: : : : : |\n",
      "| : : : : | : : : : : : : : : |\n",
      "| : : : : | : : : : : : : : : |\n",
      "| : : : : : : : | : : : | : : |\n",
      "| : | : :Y: : : | : : : | : :B|\n",
      "| : | : : : : : : : : : | : : |\n",
      "| : | : : : : : : : : : | : : |\n",
      "| : | : : : : : : : : : : : : |\n",
      "|O: : : : : : | : : : : : : : |\n",
      "| : : : : : : | : :P: : : : : |\n",
      "| : : : : : : | : :\u001b[42m_\u001b[0m: : : : : |\n",
      "| : : : : : : : : : : | : : : |\n",
      "| : : : | : : : : : : | : : : |\n",
      "| : : : | : : : : : : | : : : |\n",
      "| : :\u001b[35mM\u001b[0m: | : : : : : : | :C: : |\n",
      "+-----------------------------+\n",
      "  (South)\n",
      "0 [1 0 0 0 0 0]\n",
      "+-----------------------------+\n",
      "|R: : : : | : : : :G: : : : : |\n",
      "| : : : : | : : : : : : : : : |\n",
      "| : : : : | : : : : : : : : : |\n",
      "| : : : : : : : | : : : | : : |\n",
      "| : | : :Y: : : | : : : | : :B|\n",
      "| : | : : : : : : : : : | : : |\n",
      "| : | : : : : : : : : : | : : |\n",
      "| : | : : : : : : : : : : : : |\n",
      "|O: : : : : : | : : : : : : : |\n",
      "| : : : : : : | : :P: : : : : |\n",
      "| : : : : : : | : : : : : : : |\n",
      "| : : : : : : : : :\u001b[42m_\u001b[0m: | : : : |\n",
      "| : : : | : : : : : : | : : : |\n",
      "| : : : | : : : : : : | : : : |\n",
      "| : :\u001b[35mM\u001b[0m: | : : : : : : | :C: : |\n",
      "+-----------------------------+\n",
      "  (South)\n",
      "3 [0 0 0 1 0 0]\n",
      "+-----------------------------+\n",
      "|R: : : : | : : : :G: : : : : |\n",
      "| : : : : | : : : : : : : : : |\n",
      "| : : : : | : : : : : : : : : |\n",
      "| : : : : : : : | : : : | : : |\n",
      "| : | : :Y: : : | : : : | : :B|\n",
      "| : | : : : : : : : : : | : : |\n",
      "| : | : : : : : : : : : | : : |\n",
      "| : | : : : : : : : : : : : : |\n",
      "|O: : : : : : | : : : : : : : |\n",
      "| : : : : : : | : :P: : : : : |\n",
      "| : : : : : : | : : : : : : : |\n",
      "| : : : : : : : :\u001b[42m_\u001b[0m: : | : : : |\n",
      "| : : : | : : : : : : | : : : |\n",
      "| : : : | : : : : : : | : : : |\n",
      "| : :\u001b[35mM\u001b[0m: | : : : : : : | :C: : |\n",
      "+-----------------------------+\n",
      "  (West)\n",
      "3 [0 0 0 1 0 0]\n",
      "+-----------------------------+\n",
      "|R: : : : | : : : :G: : : : : |\n",
      "| : : : : | : : : : : : : : : |\n",
      "| : : : : | : : : : : : : : : |\n",
      "| : : : : : : : | : : : | : : |\n",
      "| : | : :Y: : : | : : : | : :B|\n",
      "| : | : : : : : : : : : | : : |\n",
      "| : | : : : : : : : : : | : : |\n",
      "| : | : : : : : : : : : : : : |\n",
      "|O: : : : : : | : : : : : : : |\n",
      "| : : : : : : | : :P: : : : : |\n",
      "| : : : : : : | : : : : : : : |\n",
      "| : : : : : : :\u001b[42m_\u001b[0m: : : | : : : |\n",
      "| : : : | : : : : : : | : : : |\n",
      "| : : : | : : : : : : | : : : |\n",
      "| : :\u001b[35mM\u001b[0m: | : : : : : : | :C: : |\n",
      "+-----------------------------+\n",
      "  (West)\n",
      "3 [0 0 0 1 0 0]\n",
      "+-----------------------------+\n",
      "|R: : : : | : : : :G: : : : : |\n",
      "| : : : : | : : : : : : : : : |\n",
      "| : : : : | : : : : : : : : : |\n",
      "| : : : : : : : | : : : | : : |\n",
      "| : | : :Y: : : | : : : | : :B|\n",
      "| : | : : : : : : : : : | : : |\n",
      "| : | : : : : : : : : : | : : |\n",
      "| : | : : : : : : : : : : : : |\n",
      "|O: : : : : : | : : : : : : : |\n",
      "| : : : : : : | : :P: : : : : |\n",
      "| : : : : : : | : : : : : : : |\n",
      "| : : : : : :\u001b[42m_\u001b[0m: : : : | : : : |\n",
      "| : : : | : : : : : : | : : : |\n",
      "| : : : | : : : : : : | : : : |\n",
      "| : :\u001b[35mM\u001b[0m: | : : : : : : | :C: : |\n",
      "+-----------------------------+\n",
      "  (West)\n",
      "3 [0 0 0 1 0 0]\n",
      "+-----------------------------+\n",
      "|R: : : : | : : : :G: : : : : |\n",
      "| : : : : | : : : : : : : : : |\n",
      "| : : : : | : : : : : : : : : |\n",
      "| : : : : : : : | : : : | : : |\n",
      "| : | : :Y: : : | : : : | : :B|\n",
      "| : | : : : : : : : : : | : : |\n",
      "| : | : : : : : : : : : | : : |\n",
      "| : | : : : : : : : : : : : : |\n",
      "|O: : : : : : | : : : : : : : |\n",
      "| : : : : : : | : :P: : : : : |\n",
      "| : : : : : : | : : : : : : : |\n",
      "| : : : : :\u001b[42m_\u001b[0m: : : : : | : : : |\n",
      "| : : : | : : : : : : | : : : |\n",
      "| : : : | : : : : : : | : : : |\n",
      "| : :\u001b[35mM\u001b[0m: | : : : : : : | :C: : |\n",
      "+-----------------------------+\n",
      "  (West)\n",
      "3 [0 0 0 1 0 0]\n",
      "+-----------------------------+\n",
      "|R: : : : | : : : :G: : : : : |\n",
      "| : : : : | : : : : : : : : : |\n",
      "| : : : : | : : : : : : : : : |\n",
      "| : : : : : : : | : : : | : : |\n",
      "| : | : :Y: : : | : : : | : :B|\n",
      "| : | : : : : : : : : : | : : |\n",
      "| : | : : : : : : : : : | : : |\n",
      "| : | : : : : : : : : : : : : |\n",
      "|O: : : : : : | : : : : : : : |\n",
      "| : : : : : : | : :P: : : : : |\n",
      "| : : : : : : | : : : : : : : |\n",
      "| : : : :\u001b[42m_\u001b[0m: : : : : : | : : : |\n",
      "| : : : | : : : : : : | : : : |\n",
      "| : : : | : : : : : : | : : : |\n",
      "| : :\u001b[35mM\u001b[0m: | : : : : : : | :C: : |\n",
      "+-----------------------------+\n",
      "  (West)\n",
      "3 [0 0 0 1 0 0]\n",
      "+-----------------------------+\n",
      "|R: : : : | : : : :G: : : : : |\n",
      "| : : : : | : : : : : : : : : |\n",
      "| : : : : | : : : : : : : : : |\n",
      "| : : : : : : : | : : : | : : |\n",
      "| : | : :Y: : : | : : : | : :B|\n",
      "| : | : : : : : : : : : | : : |\n",
      "| : | : : : : : : : : : | : : |\n",
      "| : | : : : : : : : : : : : : |\n",
      "|O: : : : : : | : : : : : : : |\n",
      "| : : : : : : | : :P: : : : : |\n",
      "| : : : : : : | : : : : : : : |\n",
      "| : : :\u001b[42m_\u001b[0m: : : : : : : | : : : |\n",
      "| : : : | : : : : : : | : : : |\n",
      "| : : : | : : : : : : | : : : |\n",
      "| : :\u001b[35mM\u001b[0m: | : : : : : : | :C: : |\n",
      "+-----------------------------+\n",
      "  (West)\n",
      "0 [1 0 0 0 0 0]\n",
      "+-----------------------------+\n",
      "|R: : : : | : : : :G: : : : : |\n",
      "| : : : : | : : : : : : : : : |\n",
      "| : : : : | : : : : : : : : : |\n",
      "| : : : : : : : | : : : | : : |\n",
      "| : | : :Y: : : | : : : | : :B|\n",
      "| : | : : : : : : : : : | : : |\n",
      "| : | : : : : : : : : : | : : |\n",
      "| : | : : : : : : : : : : : : |\n",
      "|O: : : : : : | : : : : : : : |\n",
      "| : : : : : : | : :P: : : : : |\n",
      "| : : : : : : | : : : : : : : |\n",
      "| : : : : : : : : : : | : : : |\n",
      "| : : :\u001b[42m_\u001b[0m| : : : : : : | : : : |\n",
      "| : : : | : : : : : : | : : : |\n",
      "| : :\u001b[35mM\u001b[0m: | : : : : : : | :C: : |\n",
      "+-----------------------------+\n",
      "  (South)\n",
      "0 [1 0 0 0 0 0]\n",
      "+-----------------------------+\n",
      "|R: : : : | : : : :G: : : : : |\n",
      "| : : : : | : : : : : : : : : |\n",
      "| : : : : | : : : : : : : : : |\n",
      "| : : : : : : : | : : : | : : |\n",
      "| : | : :Y: : : | : : : | : :B|\n",
      "| : | : : : : : : : : : | : : |\n",
      "| : | : : : : : : : : : | : : |\n",
      "| : | : : : : : : : : : : : : |\n",
      "|O: : : : : : | : : : : : : : |\n",
      "| : : : : : : | : :P: : : : : |\n",
      "| : : : : : : | : : : : : : : |\n",
      "| : : : : : : : : : : | : : : |\n",
      "| : : : | : : : : : : | : : : |\n",
      "| : : :\u001b[42m_\u001b[0m| : : : : : : | : : : |\n",
      "| : :\u001b[35mM\u001b[0m: | : : : : : : | :C: : |\n",
      "+-----------------------------+\n",
      "  (South)\n",
      "0 [1 0 0 0 0 0]\n",
      "+-----------------------------+\n",
      "|R: : : : | : : : :G: : : : : |\n",
      "| : : : : | : : : : : : : : : |\n",
      "| : : : : | : : : : : : : : : |\n",
      "| : : : : : : : | : : : | : : |\n",
      "| : | : :Y: : : | : : : | : :B|\n",
      "| : | : : : : : : : : : | : : |\n",
      "| : | : : : : : : : : : | : : |\n",
      "| : | : : : : : : : : : : : : |\n",
      "|O: : : : : : | : : : : : : : |\n",
      "| : : : : : : | : :P: : : : : |\n",
      "| : : : : : : | : : : : : : : |\n",
      "| : : : : : : : : : : | : : : |\n",
      "| : : : | : : : : : : | : : : |\n",
      "| : : : | : : : : : : | : : : |\n",
      "| : :\u001b[35mM\u001b[0m:\u001b[42m_\u001b[0m| : : : : : : | :C: : |\n",
      "+-----------------------------+\n",
      "  (South)\n",
      "3 [0 0 0 1 0 0]\n",
      "+-----------------------------+\n",
      "|R: : : : | : : : :G: : : : : |\n",
      "| : : : : | : : : : : : : : : |\n",
      "| : : : : | : : : : : : : : : |\n",
      "| : : : : : : : | : : : | : : |\n",
      "| : | : :Y: : : | : : : | : :B|\n",
      "| : | : : : : : : : : : | : : |\n",
      "| : | : : : : : : : : : | : : |\n",
      "| : | : : : : : : : : : : : : |\n",
      "|O: : : : : : | : : : : : : : |\n",
      "| : : : : : : | : :P: : : : : |\n",
      "| : : : : : : | : : : : : : : |\n",
      "| : : : : : : : : : : | : : : |\n",
      "| : : : | : : : : : : | : : : |\n",
      "| : : : | : : : : : : | : : : |\n",
      "| : :\u001b[35m\u001b[42mM\u001b[0m\u001b[0m: | : : : : : : | :C: : |\n",
      "+-----------------------------+\n",
      "  (West)\n",
      "+-----------------------------+\n",
      "|R: : : : | : : : :G: : : : : |\n",
      "| : : : : | : : : : : : : : : |\n",
      "| : : : : | : : : : : : : : : |\n",
      "| : : : : : : : | : : : | : : |\n",
      "| : | : :Y: : : | : : : | : :B|\n",
      "| : | : : : : : : : : : | : : |\n",
      "| : | : : : : : : : : : | : : |\n",
      "| : | : : : : : : : : : : : : |\n",
      "|O: : : : : : | : : : : : : : |\n",
      "| : : : : : : | : :P: : : : : |\n",
      "| : : : : : : | : : : : : : : |\n",
      "| : : : : : : : : : : | : : : |\n",
      "| : : : | : : : : : : | : : : |\n",
      "| : : : | : : : : : : | : : : |\n",
      "| : :\u001b[35m\u001b[34;1m\u001b[43mM\u001b[0m\u001b[0m\u001b[0m: | : : : : : : | :C: : |\n",
      "+-----------------------------+\n",
      "  (Dropoff)\n"
     ]
    }
   ],
   "source": [
    "import random as rd\n",
    "s2=rd.randint(0,16200)\n",
    "taxi_route(policy_q_2, s2, env2)"
   ]
  },
  {
   "cell_type": "markdown",
   "metadata": {},
   "source": [
    "# Q-Learning"
   ]
  },
  {
   "cell_type": "code",
   "execution_count": 104,
   "metadata": {},
   "outputs": [
    {
     "name": "stdout",
     "output_type": "stream",
     "text": [
      "Populating the interactive namespace from numpy and matplotlib\n"
     ]
    }
   ],
   "source": [
    "import numpy as np\n",
    "from tqdm import tqdm\n",
    "import matplotlib.pyplot as plt\n",
    "import seaborn as sns\n",
    "sns.set_style(\"darkgrid\")\n",
    "%pylab inline\n",
    "import random\n",
    "from IPython.display import clear_output"
   ]
  },
  {
   "cell_type": "markdown",
   "metadata": {},
   "source": [
    "### The original version of this algorithm was found at: https://www.learndatasci.com/tutorials/reinforcement-q-learning-scratch-python-openai-gym/"
   ]
  },
  {
   "cell_type": "code",
   "execution_count": 166,
   "metadata": {},
   "outputs": [],
   "source": [
    "\n",
    "\n",
    "def q_learning(env, alpha = 0.1, gamma = 0.9, epsilon = 0.1, iters = 100001):\n",
    "    q_table = np.zeros([env.observation_space.n, env.action_space.n])\n",
    "    t0 = time.time()\n",
    "    \"\"\"Training the agent\"\"\"\n",
    "\n",
    "    \n",
    "    # For plotting metrics\n",
    "    all_epochs = []\n",
    "    all_penalties = []\n",
    "    iterations=[]\n",
    "    Times=[]\n",
    "\n",
    "    for i in range(1, iters):\n",
    "        iterations.append(i)\n",
    "        state = env.reset()\n",
    "\n",
    "        epochs, penalties, reward, = 0, 0, 0\n",
    "        done = False\n",
    "\n",
    "        while not done:\n",
    "            if random.uniform(0, 1) < epsilon:\n",
    "                action = env.action_space.sample() # Explore action space\n",
    "            else:\n",
    "                action = np.argmax(q_table[state]) # Exploit learned values\n",
    "\n",
    "            next_state, reward, done, info = env.step(action) \n",
    "            old_value = q_table[state, action]\n",
    "            next_max = np.max(q_table[next_state])\n",
    "\n",
    "            new_value = (1 - alpha) * old_value + alpha * (reward + gamma * next_max)\n",
    "            q_table[state, action] = new_value\n",
    "\n",
    "            if reward == -10:\n",
    "                penalties += 1\n",
    "\n",
    "            state = next_state\n",
    "            epochs += 1\n",
    "            Times.append(time.time()-t0)\n",
    "        if i % 100 == 0:\n",
    "            clear_output(wait=True)\n",
    "            print(f\"Episode: {i}\")\n",
    "\n",
    "            \n",
    "    print(\"Training finished.\\n\"+ str(time.time()-t0))\n",
    "    return iterations, q_table, Times\n",
    "    "
   ]
  },
  {
   "cell_type": "code",
   "execution_count": 152,
   "metadata": {},
   "outputs": [],
   "source": [
    "\"\"\"Evaluate agent's performance after Q-learning\"\"\"\n",
    "def evaluate_q_learning(env, q_table):\n",
    "    total_epochs, total_penalties, total_rewards = 0, 0, 0\n",
    "    episodes = 100\n",
    "    Rewards=0\n",
    "    nb_dv = 0\n",
    "    for _ in range(episodes):\n",
    "        state = env.reset()\n",
    "        epochs, penalties, total_rewards, reward = 0, 0, 0, 0\n",
    "\n",
    "        done = False\n",
    "        i=0\n",
    "        while not done :\n",
    "            if i>500: \n",
    "                nb_dv+=1\n",
    "                break\n",
    "            i+=1\n",
    "            action = np.argmax(q_table[state])\n",
    "            state, reward, done, info = env.step(action)\n",
    "            if reward == -10:\n",
    "                penalties += 1\n",
    "            \n",
    "            epochs += 1\n",
    "            total_rewards += reward\n",
    "        total_penalties += penalties\n",
    "        total_epochs += epochs\n",
    "        Rewards+=total_rewards\n",
    "    print(f\"Results after {episodes} episodes:\")\n",
    "    print(f\"Average timesteps per episode: {total_epochs / episodes}\")\n",
    "    print(f\"Average penalties per episode: {total_penalties / episodes}\")\n",
    "    print(f\"Average rewards per episode: {Rewards / episodes}\")\n",
    "    return(Rewards, nb_dv)"
   ]
  },
  {
   "cell_type": "markdown",
   "metadata": {},
   "source": [
    "### Tuning of epsilon"
   ]
  },
  {
   "cell_type": "code",
   "execution_count": 121,
   "metadata": {},
   "outputs": [
    {
     "name": "stdout",
     "output_type": "stream",
     "text": [
      "Episode: 999900\n",
      "Training finished.\n",
      "12028.882611513138\n",
      "Results after 100 episodes:\n",
      "Average timesteps per episode: 27.65\n",
      "Average penalties per episode: 0.0\n",
      "Average rewards per episode: 33.35\n"
     ]
    }
   ],
   "source": [
    "epsilons = [0.05, 0.1, 0.2, 0.5, 0.75, 0.9]\n",
    "R_eps, dv_eps = [], []\n",
    "for epsilon in epsilons:\n",
    "    iter_q_1_eps, q_table_1_eps= q_learning(env2,epsilon=epsilon, iters=1000000)\n",
    "    Reward_1, count_dv_1 = evaluate_q_learning(env2, q_table_1_eps)\n",
    "    R_eps.append(Reward_1/100)\n",
    "    dv_eps.append(count_dv_1)"
   ]
  },
  {
   "cell_type": "code",
   "execution_count": 165,
   "metadata": {},
   "outputs": [
    {
     "data": {
      "image/png": "[encoded data removed]",
      "text/plain": [
       "<Figure size 432x288 with 1 Axes>"
      ]
     },
     "metadata": {
      "needs_background": "light"
     },
     "output_type": "display_data"
    },
    {
     "data": {
      "image/png": "[encoded data removed]",
      "text/plain": [
       "<Figure size 432x288 with 1 Axes>"
      ]
     },
     "metadata": {
      "needs_background": "light"
     },
     "output_type": "display_data"
    }
   ],
   "source": [
    "plt.plot(epsilons, R_eps)\n",
    "plt.ylabel('Average Reward')\n",
    "plt.xlabel('Epsilon')\n",
    "plt.show()\n",
    "\n",
    "plt.plot(epsilons, dv_eps)\n",
    "plt.ylabel('Purcentage of diverging states')\n",
    "plt.xlabel('Epsilon')\n",
    "plt.show()"
   ]
  },
  {
   "cell_type": "code",
   "execution_count": 144,
   "metadata": {},
   "outputs": [
    {
     "data": {
      "image/png": "[encoded data removed]",
      "text/plain": [
       "<Figure size 432x288 with 1 Axes>"
      ]
     },
     "metadata": {
      "needs_background": "light"
     },
     "output_type": "display_data"
    }
   ],
   "source": [
    "t=np.multiply(times_q_2, 1/10000)\n",
    "plt.plot(epsilons, t)\n",
    "plt.ylabel('Average Time per iteration')\n",
    "plt.xlabel('Epsilon')\n",
    "plt.show()"
   ]
  },
  {
   "cell_type": "markdown",
   "metadata": {},
   "source": [
    "### gamma"
   ]
  },
  {
   "cell_type": "code",
   "execution_count": 170,
   "metadata": {},
   "outputs": [
    {
     "name": "stdout",
     "output_type": "stream",
     "text": [
      "Episode: 9900\n",
      "Training finished.\n",
      "99.97519659996033\n",
      "Results after 100 episodes:\n",
      "Average timesteps per episode: 409.46\n",
      "Average penalties per episode: 0.0\n",
      "Average rewards per episode: -397.87\n"
     ]
    }
   ],
   "source": [
    "gammas  = [0.4, 0.6, 0.8, 0.9, 0.99]\n",
    "R_gamma, dv_gamma = [], []\n",
    "for gamma in gammas:\n",
    "    iter_q_2_gamma, q_table_2_gamma, Times_gamma= q_learning(env2,gamma=gamma, iters=10000)\n",
    "    Reward_2, count_dv_2 = evaluate_q_learning(env2, q_table_2_gamma)\n",
    "    R_gamma.append(Reward_2/100)\n",
    "    dv_gamma.append(count_dv_2)"
   ]
  },
  {
   "cell_type": "code",
   "execution_count": 179,
   "metadata": {},
   "outputs": [
    {
     "data": {
      "image/png": "[encoded data removed]",
      "text/plain": [
       "<Figure size 432x288 with 1 Axes>"
      ]
     },
     "metadata": {
      "needs_background": "light"
     },
     "output_type": "display_data"
    }
   ],
   "source": [
    "plt.plot(gammas, R_gamma)\n",
    "plt.ylabel('Average Reward')\n",
    "plt.xlabel('Gamma')\n",
    "plt.show()"
   ]
  },
  {
   "cell_type": "code",
   "execution_count": 513,
   "metadata": {},
   "outputs": [],
   "source": [
    "policy_q_2=[]\n",
    "v_q_2=[]\n",
    "for i in range(len(q_table_2)):\n",
    "    p=np.array([0, 0, 0, 0, 0, 0])\n",
    "    j=np.argmax(q_table_2[i])\n",
    "    p[j]=1\n",
    "    policy_q_2.append(p)\n",
    "    v_q_2.append(np.max(q_table_2[i]))\n"
   ]
  },
  {
   "cell_type": "markdown",
   "metadata": {},
   "source": [
    "### alphas"
   ]
  },
  {
   "cell_type": "code",
   "execution_count": 182,
   "metadata": {},
   "outputs": [
    {
     "name": "stdout",
     "output_type": "stream",
     "text": [
      "Episode: 9900\n",
      "Training finished.\n",
      "138.1040358543396\n"
     ]
    },
    {
     "ename": "ValueError",
     "evalue": "too many values to unpack (expected 2)",
     "output_type": "error",
     "traceback": [
      "\u001b[1;31m---------------------------------------------------------------------------\u001b[0m",
      "\u001b[1;31mValueError\u001b[0m                                Traceback (most recent call last)",
      "\u001b[1;32m<ipython-input-182-d7ec5882190e>\u001b[0m in \u001b[0;36m<module>\u001b[1;34m\u001b[0m\n\u001b[0;32m      2\u001b[0m \u001b[0mR_alpha\u001b[0m\u001b[1;33m,\u001b[0m \u001b[0mdv_alpha\u001b[0m \u001b[1;33m=\u001b[0m \u001b[1;33m[\u001b[0m\u001b[1;33m]\u001b[0m\u001b[1;33m,\u001b[0m \u001b[1;33m[\u001b[0m\u001b[1;33m]\u001b[0m\u001b[1;33m\u001b[0m\u001b[1;33m\u001b[0m\u001b[0m\n\u001b[0;32m      3\u001b[0m \u001b[1;32mfor\u001b[0m \u001b[0malpha\u001b[0m \u001b[1;32min\u001b[0m \u001b[0malphas\u001b[0m\u001b[1;33m:\u001b[0m\u001b[1;33m\u001b[0m\u001b[1;33m\u001b[0m\u001b[0m\n\u001b[1;32m----> 4\u001b[1;33m     \u001b[0miter_q_2_alpha\u001b[0m\u001b[1;33m,\u001b[0m \u001b[0mq_table_2_alpha\u001b[0m\u001b[1;33m=\u001b[0m \u001b[0mq_learning\u001b[0m\u001b[1;33m(\u001b[0m\u001b[0menv2\u001b[0m\u001b[1;33m,\u001b[0m\u001b[0malpha\u001b[0m\u001b[1;33m=\u001b[0m\u001b[0malpha\u001b[0m\u001b[1;33m,\u001b[0m \u001b[0miters\u001b[0m\u001b[1;33m=\u001b[0m\u001b[1;36m10000\u001b[0m\u001b[1;33m)\u001b[0m\u001b[1;33m\u001b[0m\u001b[1;33m\u001b[0m\u001b[0m\n\u001b[0m\u001b[0;32m      5\u001b[0m     \u001b[0mReward_2\u001b[0m\u001b[1;33m,\u001b[0m \u001b[0mcount_dv_2\u001b[0m \u001b[1;33m=\u001b[0m \u001b[0mevaluate_q_learning\u001b[0m\u001b[1;33m(\u001b[0m\u001b[0menv2\u001b[0m\u001b[1;33m,\u001b[0m \u001b[0mq_table_2_alpha\u001b[0m\u001b[1;33m)\u001b[0m\u001b[1;33m\u001b[0m\u001b[1;33m\u001b[0m\u001b[0m\n\u001b[0;32m      6\u001b[0m     \u001b[0mR_alpha\u001b[0m\u001b[1;33m.\u001b[0m\u001b[0mappend\u001b[0m\u001b[1;33m(\u001b[0m\u001b[0mReward_1\u001b[0m\u001b[1;33m/\u001b[0m\u001b[1;36m100\u001b[0m\u001b[1;33m)\u001b[0m\u001b[1;33m\u001b[0m\u001b[1;33m\u001b[0m\u001b[0m\n",
      "\u001b[1;31mValueError\u001b[0m: too many values to unpack (expected 2)"
     ]
    }
   ],
   "source": [
    "alphas  = [0.05, 0.1, 0.2, 0.3, 0.5]\n",
    "R_alpha, dv_alpha = [], []\n",
    "for alpha in alphas:\n",
    "    iter_q_2_alpha, q_table_2_alpha= q_learning(env2,alpha=alpha, iters=10000)\n",
    "    Reward_2, count_dv_2 = evaluate_q_learning(env2, q_table_2_alpha)\n",
    "    R_alpha.append(Reward_1/100)\n",
    "    dv_alpha.append(count_dv_2)"
   ]
  },
  {
   "cell_type": "code",
   "execution_count": null,
   "metadata": {},
   "outputs": [],
   "source": [
    "import matplotlib.pyplot as plt\n",
    "plt.plot(alphas, R_alpha)\n",
    "plt.ylabel('Average Reward per episode')\n",
    "plt.xlabel('Alpha')\n",
    "plt.show()"
   ]
  },
  {
   "cell_type": "markdown",
   "metadata": {},
   "source": [
    "#### Training with the tuned parameters"
   ]
  },
  {
   "cell_type": "code",
   "execution_count": 133,
   "metadata": {},
   "outputs": [
    {
     "name": "stdout",
     "output_type": "stream",
     "text": [
      "Episode: 3999900\n",
      "Training finished.\n",
      "4044.5595605373383\n",
      "Results after 100 episodes:\n",
      "Average timesteps per episode: 26.11\n",
      "Average penalties per episode: 0.0\n",
      "Average rewards per episode: 34.89\n"
     ]
    }
   ],
   "source": [
    "iter_q_2, q_table_2= q_learning(env2, iters=4000000, alpha=0.1, epsilon=0.1, gamma=0.99)\n",
    "Reward_2, count_dv_2 = evaluate_q_learning(env2, q_table_2)\n",
    "R2[9]=Reward_2\n",
    "dv2[9]=count_dv_2"
   ]
  },
  {
   "cell_type": "code",
   "execution_count": 109,
   "metadata": {},
   "outputs": [
    {
     "name": "stdout",
     "output_type": "stream",
     "text": [
      "Episode: 4999900\n",
      "Training finished.\n",
      "8295.95809173584\n",
      "Results after 100 episodes:\n",
      "Average timesteps per episode: 28.73\n",
      "Average penalties per episode: 0.0\n",
      "Average rewards per episode: 32.27\n"
     ]
    }
   ],
   "source": [
    "iterations = [1000, 10000, 50000, 100000, 500000,10000000,20000000,3000000,4000000,5000000]\n",
    "Rewards_Q_2=[]\n",
    "Diverge_Q_2=[]\n",
    "for i in range(len(iterations)):\n",
    "    iter_q_2, q_table_2= q_learning(env2, iters=iterations[i])\n",
    "    Reward_2, count_dv_2 = evaluate_q_learning(env2, q_table_2)\n",
    "    Rewards_Q_2.append(Reward_2)\n",
    "    Diverge_Q_2.append(count_dv_2)"
   ]
  },
  {
   "cell_type": "code",
   "execution_count": 119,
   "metadata": {},
   "outputs": [
    {
     "data": {
      "image/png": "[encoded data removed]",
      "text/plain": [
       "<Figure size 432x288 with 1 Axes>"
      ]
     },
     "metadata": {
      "needs_background": "light"
     },
     "output_type": "display_data"
    }
   ],
   "source": [
    "import matplotlib.pyplot as plt\n",
    "plt.plot(iterations, Rewards_Q_2)\n",
    "plt.ylabel('Average Reward')\n",
    "plt.xlabel('Number of iterations')\n",
    "plt.show()"
   ]
  }
 ],
 "metadata": {
  "celltoolbar": "Aucun(e)",
  "kernelspec": {
   "display_name": "Python 3",
   "language": "python",
   "name": "python3"
  }
 },
 "nbformat": 4,
 "nbformat_minor": 2
}
